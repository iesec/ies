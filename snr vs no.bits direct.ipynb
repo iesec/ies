{
  "nbformat": 4,
  "nbformat_minor": 0,
  "metadata": {
    "colab": {
      "provenance": []
    },
    "kernelspec": {
      "name": "python3",
      "display_name": "Python 3"
    },
    "language_info": {
      "name": "python"
    }
  },
  "cells": [
    {
      "cell_type": "code",
      "execution_count": 1,
      "metadata": {
        "id": "5Kj90eJGwW5r",
        "colab": {
          "base_uri": "https://localhost:8080/",
          "height": 330
        },
        "outputId": "eb996251-8a77-4106-ca4c-95310f77c558"
      },
      "outputs": [
        {
          "name": "stdout",
          "output_type": "stream",
          "text": [
            "Enter frequency of sinusoidal waveform: 50\n"
          ]
        },
        {
          "output_type": "execute_result",
          "data": {
            "text/plain": [
              "Text(0.5, 1.0, 'SNR vs No.of bits per symbol')"
            ]
          },
          "metadata": {},
          "execution_count": 1
        },
        {
          "output_type": "display_data",
          "data": {
            "text/plain": [
              "<Figure size 432x288 with 1 Axes>"
            ],
            "image/png": "[encoded data removed]"
          },
          "metadata": {
            "needs_background": "light"
          }
        }
      ],
      "source": [
        "import numpy as np\n",
        "import matplotlib.pyplot as plt\n",
        "\n",
        "time = np.arange(0,0.05,0.0005)\n",
        "frequency_message=int(input(\"Enter frequency of sinusoidal waveform: \")) \n",
        "dc_offset = 2 \n",
        "signal = np.sin(2*np.pi*frequency_message*time) + dc_offset\n",
        "def power(s):\n",
        " p = 0\n",
        " for i in s:\n",
        "  p += i**2\n",
        "  P = p/len(s)\n",
        "  return P\n",
        " \n",
        "signal = np.sin(2*np.pi*frequency_message*time) + 2\n",
        "s_min = round(min(signal))\n",
        "s_max = round(max(signal))\n",
        "power_signal = power(signal)\n",
        "snr_db=[]\n",
        "for i in range(1,11):\n",
        " R = i\n",
        " L = 2**R\n",
        " step_size = (s_max-s_min)/L\n",
        " power_noise = (step_size**2)/3\n",
        " snr = power_signal/power_noise\n",
        " snr_db.append(20*np.log10(snr))\n",
        "plt.plot(range(1,11),snr_db,\"r*-\")\n",
        "plt.xlabel(\"No.of Bits per symbol\")\n",
        "plt.ylabel(\"SNR in dB\")\n",
        "plt.title(\"SNR vs No.of bits per symbol\")"
      ]
    }
  ]
}